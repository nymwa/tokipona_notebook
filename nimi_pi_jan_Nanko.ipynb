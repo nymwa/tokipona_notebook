{
 "cells": [
  {
   "cell_type": "code",
   "execution_count": 1,
   "id": "50154b20",
   "metadata": {},
   "outputs": [],
   "source": [
    "from collections import Counter\n",
    "from contextlib import ExitStack\n",
    "from tabulate import tabulate\n",
    "from IPython.display import display, Markdown\n",
    "from ilonimi import Vocabulary, Normalizer, Tokenizer"
   ]
  },
  {
   "cell_type": "code",
   "execution_count": 2,
   "id": "f8c0e8e8",
   "metadata": {},
   "outputs": [],
   "source": [
    "vocab = Vocabulary()\n",
    "normalizer = Normalizer()\n",
    "tokenizer = Tokenizer(\n",
    "    convert_unk = True,\n",
    "    convert_number = True,\n",
    "    convert_proper = True)\n",
    "\n",
    "path_list = [\n",
    "    '../tokipona-corpus-collection/100tokipona/100tokipona.txt',\n",
    "    '../tokipona-corpus-collection/tokipona1000/tokipona1000.txt',\n",
    "    '../tokipona-corpus-collection/tatoeba/tatoeba.txt']\n",
    "\n",
    "def preproc(sent):\n",
    "    sent = sent.strip()\n",
    "    sent = normalizer(sent)\n",
    "    sent = tokenizer(sent)\n",
    "    return sent\n",
    "    \n",
    "with ExitStack() as stack:\n",
    "    sents = [\n",
    "        preproc(sent)\n",
    "        for path\n",
    "        in path_list\n",
    "        for sent\n",
    "        in stack.enter_context(open(path))]"
   ]
  },
  {
   "cell_type": "code",
   "execution_count": 3,
   "id": "2dee88b2",
   "metadata": {},
   "outputs": [],
   "source": [
    "word_set = set(vocab.word_list)\n",
    "freq = Counter([\n",
    "    word\n",
    "    for sent in sents\n",
    "    for word in sent.split()\n",
    "    if word in word_set\n",
    "]).most_common()\n",
    "num_words = sum([t for w, t in freq])"
   ]
  },
  {
   "cell_type": "code",
   "execution_count": 4,
   "id": "9113ca67",
   "metadata": {
    "scrolled": false
   },
   "outputs": [],
   "source": [
    "def show_table(accum = False):\n",
    "    repeat = 5 # 横幅\n",
    "    height = len(freq) // repeat # 縦幅 (26)\n",
    "    table = [[''] * (2 * repeat) for _ in range(height)]\n",
    "    \n",
    "    num_accum = 0\n",
    "    for i, (w, f) in enumerate(freq):\n",
    "        num_accum += f\n",
    "        table[i % height][i // height * 2] = w\n",
    "        if accum:\n",
    "            second = '{:.3f}%'.format(num_accum / num_words * 100)\n",
    "        else:\n",
    "            second = '{:.3f}%'.format(f / num_words * 100)\n",
    "        table[i % height][i // height * 2 + 1] = second\n",
    "        \n",
    "    if accum:\n",
    "        headers = ['単語', '累積頻度']\n",
    "    else:\n",
    "        headers = ['単語', '頻度']\n",
    "    \n",
    "    table = tabulate(table, headers = headers * repeat, tablefmt ='github')\n",
    "    display(Markdown(table))"
   ]
  },
  {
   "cell_type": "code",
   "execution_count": 5,
   "id": "b7abc22d",
   "metadata": {},
   "outputs": [
    {
     "data": {
      "text/markdown": [
       "| 単語   | 頻度   | 単語    | 頻度   | 単語   | 頻度   | 単語   | 頻度   | 単語            | 頻度   |\n",
       "|--------|--------|---------|--------|--------|--------|--------|--------|-----------------|--------|\n",
       "| li     | 8.849% | pilin   | 0.970% | sin    | 0.402% | moli   | 0.226% | waso            | 0.104% |\n",
       "| e      | 6.667% | ma      | 0.940% | awen   | 0.391% | seli   | 0.226% | ko              | 0.102% |\n",
       "| mi     | 4.968% | jo      | 0.889% | wan    | 0.369% | kulupu | 0.220% | monsi           | 0.099% |\n",
       "| jan    | 4.448% | lili    | 0.854% | soweli | 0.364% | olin   | 0.216% | pan             | 0.093% |\n",
       "| ni     | 3.993% | ike     | 0.761% | nasa   | 0.357% | pimeja | 0.207% | walo            | 0.092% |\n",
       "| tawa   | 3.381% | pana    | 0.745% | tu     | 0.357% | insa   | 0.206% | loje            | 0.090% |\n",
       "| la     | 3.016% | kepeken | 0.729% | mije   | 0.355% | sijelo | 0.205% | nena            | 0.089% |\n",
       "| sina   | 2.938% | telo    | 0.697% | ante   | 0.348% | poki   | 0.201% | pipi            | 0.086% |\n",
       "| lon    | 2.922% | pini    | 0.677% | mani   | 0.344% | esun   | 0.198% | selo            | 0.084% |\n",
       "| ala    | 2.857% | suli    | 0.643% | sike   | 0.338% | kute   | 0.195% | mun             | 0.082% |\n",
       "| ona    | 2.811% | sama    | 0.598% | lipu   | 0.337% | linja  | 0.195% | palisa          | 0.079% |\n",
       "| pi     | 2.795% | moku    | 0.577% | pakala | 0.333% | ali    | 0.192% | alasa           | 0.075% |\n",
       "| tenpo  | 1.958% | ale     | 0.568% | kin    | 0.317% | supa   | 0.191% | jelo            | 0.064% |\n",
       "| kama   | 1.854% | suno    | 0.563% | mama   | 0.310% | anpa   | 0.187% | laso            | 0.061% |\n",
       "| mute   | 1.829% | lawa    | 0.544% | poka   | 0.303% | noka   | 0.171% | kala            | 0.057% |\n",
       "| toki   | 1.801% | anu     | 0.527% | kon    | 0.289% | suwi   | 0.166% | unpa            | 0.039% |\n",
       "| pona   | 1.782% | ijo     | 0.525% | luka   | 0.285% | a      | 0.145% | mu              | 0.038% |\n",
       "| seme   | 1.617% | ilo     | 0.506% | en     | 0.284% | kiwen  | 0.143% | oko             | 0.031% |\n",
       "| wile   | 1.555% | wawa    | 0.474% | len    | 0.273% | uta    | 0.141% | monsuta         | 0.024% |\n",
       "| sona   | 1.352% | taso    | 0.466% | kalama | 0.258% | lete   | 0.138% | kipisi          | 0.020% |\n",
       "| tomo   | 1.323% | musi    | 0.458% | open   | 0.253% | sinpin | 0.131% | namako          | 0.011% |\n",
       "| ken    | 1.281% | nasin   | 0.447% | lape   | 0.251% | akesi  | 0.130% | pu              | 0.006% |\n",
       "| o      | 1.162% | meli    | 0.433% | nimi   | 0.246% | kili   | 0.126% | mulapisu        | 0.002% |\n",
       "| pali   | 1.043% | sitelen | 0.422% | utala  | 0.234% | lupa   | 0.117% | tonsi           | 0.002% |\n",
       "| lukin  | 1.008% | sewi    | 0.409% | nanpa  | 0.233% | kule   | 0.114% | kijetesantakalu | 0.002% |\n",
       "| tan    | 0.972% | weka    | 0.404% | kasi   | 0.227% | jaki   | 0.107% | epiku           | 0.001% |"
      ],
      "text/plain": [
       "<IPython.core.display.Markdown object>"
      ]
     },
     "metadata": {},
     "output_type": "display_data"
    }
   ],
   "source": [
    "show_table()"
   ]
  },
  {
   "cell_type": "code",
   "execution_count": 6,
   "id": "4bd3baeb",
   "metadata": {
    "scrolled": true
   },
   "outputs": [
    {
     "data": {
      "text/markdown": [
       "| 単語   | 累積頻度   | 単語    | 累積頻度   | 単語   | 累積頻度   | 単語   | 累積頻度   | 単語            | 累積頻度   |\n",
       "|--------|------------|---------|------------|--------|------------|--------|------------|-----------------|------------|\n",
       "| li     | 8.849%     | pilin   | 71.152%    | sin    | 86.412%    | moli   | 94.297%    | waso            | 98.670%    |\n",
       "| e      | 15.517%    | ma      | 72.092%    | awen   | 86.803%    | seli   | 94.523%    | ko              | 98.772%    |\n",
       "| mi     | 20.484%    | jo      | 72.981%    | wan    | 87.172%    | kulupu | 94.743%    | monsi           | 98.872%    |\n",
       "| jan    | 24.932%    | lili    | 73.835%    | soweli | 87.536%    | olin   | 94.958%    | pan             | 98.965%    |\n",
       "| ni     | 28.926%    | ike     | 74.596%    | nasa   | 87.894%    | pimeja | 95.166%    | walo            | 99.057%    |\n",
       "| tawa   | 32.307%    | pana    | 75.341%    | tu     | 88.251%    | insa   | 95.372%    | loje            | 99.148%    |\n",
       "| la     | 35.323%    | kepeken | 76.070%    | mije   | 88.606%    | sijelo | 95.577%    | nena            | 99.236%    |\n",
       "| sina   | 38.260%    | telo    | 76.767%    | ante   | 88.954%    | poki   | 95.778%    | pipi            | 99.322%    |\n",
       "| lon    | 41.183%    | pini    | 77.444%    | mani   | 89.298%    | esun   | 95.976%    | selo            | 99.406%    |\n",
       "| ala    | 44.040%    | suli    | 78.087%    | sike   | 89.636%    | kute   | 96.171%    | mun             | 99.487%    |\n",
       "| ona    | 46.850%    | sama    | 78.685%    | lipu   | 89.973%    | linja  | 96.366%    | palisa          | 99.566%    |\n",
       "| pi     | 49.646%    | moku    | 79.263%    | pakala | 90.306%    | ali    | 96.558%    | alasa           | 99.641%    |\n",
       "| tenpo  | 51.603%    | ale     | 79.831%    | kin    | 90.623%    | supa   | 96.750%    | jelo            | 99.705%    |\n",
       "| kama   | 53.457%    | suno    | 80.394%    | mama   | 90.933%    | anpa   | 96.937%    | laso            | 99.766%    |\n",
       "| mute   | 55.286%    | lawa    | 80.938%    | poka   | 91.236%    | noka   | 97.108%    | kala            | 99.823%    |\n",
       "| toki   | 57.087%    | anu     | 81.466%    | kon    | 91.525%    | suwi   | 97.274%    | unpa            | 99.863%    |\n",
       "| pona   | 58.869%    | ijo     | 81.991%    | luka   | 91.810%    | a      | 97.419%    | mu              | 99.901%    |\n",
       "| seme   | 60.486%    | ilo     | 82.497%    | en     | 92.094%    | kiwen  | 97.562%    | oko             | 99.932%    |\n",
       "| wile   | 62.041%    | wawa    | 82.971%    | len    | 92.367%    | uta    | 97.703%    | monsuta         | 99.955%    |\n",
       "| sona   | 63.393%    | taso    | 83.438%    | kalama | 92.626%    | lete   | 97.841%    | kipisi          | 99.975%    |\n",
       "| tomo   | 64.716%    | musi    | 83.895%    | open   | 92.879%    | sinpin | 97.972%    | namako          | 99.987%    |\n",
       "| ken    | 65.997%    | nasin   | 84.342%    | lape   | 93.129%    | akesi  | 98.102%    | pu              | 99.993%    |\n",
       "| o      | 67.159%    | meli    | 84.775%    | nimi   | 93.376%    | kili   | 98.228%    | mulapisu        | 99.995%    |\n",
       "| pali   | 68.202%    | sitelen | 85.197%    | utala  | 93.610%    | lupa   | 98.346%    | tonsi           | 99.997%    |\n",
       "| lukin  | 69.209%    | sewi    | 85.606%    | nanpa  | 93.843%    | kule   | 98.459%    | kijetesantakalu | 99.999%    |\n",
       "| tan    | 70.182%    | weka    | 86.011%    | kasi   | 94.070%    | jaki   | 98.566%    | epiku           | 100.000%   |"
      ],
      "text/plain": [
       "<IPython.core.display.Markdown object>"
      ]
     },
     "metadata": {},
     "output_type": "display_data"
    }
   ],
   "source": [
    "show_table(accum = True)"
   ]
  },
  {
   "cell_type": "code",
   "execution_count": 7,
   "id": "69a35d13",
   "metadata": {
    "scrolled": true
   },
   "outputs": [],
   "source": [
    "bigrams = Counter([\n",
    "    bigram\n",
    "    for sent\n",
    "    in [sent.split() for sent in sents]\n",
    "    for bigram\n",
    "    in zip(sent, sent[1:])\n",
    "    if all(word in word_set for word in bigram)\n",
    "]).most_common()"
   ]
  },
  {
   "cell_type": "code",
   "execution_count": 8,
   "id": "f2acbf04",
   "metadata": {
    "scrolled": false
   },
   "outputs": [
    {
     "data": {
      "text/plain": [
       "[(('anu', 'seme'), 1854),\n",
       " (('tenpo', 'suno'), 1383),\n",
       " (('tenpo', 'pini'), 1137),\n",
       " (('kama', 'jo'), 1043),\n",
       " (('ma', 'tomo'), 1015),\n",
       " (('tan', 'seme'), 1009),\n",
       " (('pona', 'mute'), 864),\n",
       " (('kama', 'sona'), 855),\n",
       " (('jan', 'lili'), 825),\n",
       " (('jan', 'seme'), 586),\n",
       " (('tenpo', 'kama'), 505)]"
      ]
     },
     "execution_count": 8,
     "metadata": {},
     "output_type": "execute_result"
    }
   ],
   "source": [
    "ngset = {'ona', 'e', 'ni', 'li', 'la', 'mi', 'sina', 'pi', 'o', 'ken', 'wile', 'ala', 'lon', 'tawa'}\n",
    "[bigram\n",
    "for bigram\n",
    "in bigrams\n",
    "if not any(word in ngset for word in bigram[0]) and bigram[1] > 500]"
   ]
  },
  {
   "cell_type": "code",
   "execution_count": 9,
   "id": "d14a7a63",
   "metadata": {},
   "outputs": [],
   "source": [
    "trigrams = Counter([\n",
    "    trigram\n",
    "    for sent\n",
    "    in [sent.split() for sent in sents]\n",
    "    for trigram\n",
    "    in zip(sent, sent[1:], sent[2:])\n",
    "    if all(word in word_set for word in trigram)\n",
    "]).most_common()"
   ]
  },
  {
   "cell_type": "code",
   "execution_count": 10,
   "id": "0b660aa9",
   "metadata": {
    "scrolled": false
   },
   "outputs": [
    {
     "data": {
      "text/plain": [
       "[(('tenpo', 'suno', 'kama'), 241),\n",
       " (('tenpo', 'suno', 'pini'), 205),\n",
       " (('kepeken', 'ilo', 'toki'), 178),\n",
       " (('ma', 'tomo', 'lawa'), 121),\n",
       " (('jan', 'lawa', 'ma'), 106),\n",
       " (('toki', 'kepeken', 'toki'), 105),\n",
       " (('kalama', 'musi', 'uta'), 100),\n",
       " (('tenpo', 'suno', 'ale'), 100),\n",
       " (('pilin', 'ike', 'tan'), 97),\n",
       " (('tenpo', 'suli', 'nanpa'), 89),\n",
       " (('pilin', 'pona', 'mute'), 81),\n",
       " (('pilin', 'akesi', 'tan'), 77),\n",
       " (('tenpo', 'pimeja', 'pini'), 76),\n",
       " (('nanpa', 'luka', 'tu'), 72),\n",
       " (('kama', 'tan', 'ma'), 64),\n",
       " (('sike', 'suno', 'mute'), 64),\n",
       " (('nanpa', 'luka', 'luka'), 63),\n",
       " (('luka', 'tu', 'wan'), 60),\n",
       " (('kama', 'tan', 'sewi'), 59),\n",
       " (('mute', 'anu', 'seme'), 58),\n",
       " (('pona', 'lukin', 'mute'), 57),\n",
       " (('suli', 'nanpa', 'luka'), 57),\n",
       " (('tan', 'ma', 'tomo'), 54),\n",
       " (('tenpo', 'kama', 'lili'), 54),\n",
       " (('pona', 'anu', 'seme'), 51),\n",
       " (('luka', 'luka', 'tu'), 51),\n",
       " (('luka', 'luka', 'luka'), 49),\n",
       " (('kepeken', 'supa', 'monsi'), 49),\n",
       " (('pilin', 'pona', 'tan'), 48),\n",
       " (('telo', 'kasi', 'seli'), 42),\n",
       " (('weka', 'tan', 'tomo'), 41),\n",
       " (('ma', 'tomo', 'lili'), 41),\n",
       " (('tenpo', 'suno', 'ali'), 40),\n",
       " (('pona', 'nanpa', 'wan'), 40),\n",
       " (('telo', 'pimeja', 'seli'), 39),\n",
       " (('tenpo', 'sike', 'mute'), 38),\n",
       " (('tenpo', 'kulupu', 'musi'), 37),\n",
       " (('sike', 'suno', 'ale'), 37),\n",
       " (('akesi', 'ike', 'suli'), 36),\n",
       " (('nanpa', 'tu', 'wan'), 35),\n",
       " (('tan', 'supa', 'lape'), 34),\n",
       " (('suli', 'nanpa', 'wan'), 34),\n",
       " (('tomo', 'anu', 'seme'), 34),\n",
       " (('kepeken', 'nasin', 'seme'), 33),\n",
       " (('pilin', 'ike', 'mute'), 32),\n",
       " (('nanpa', 'luka', 'wan'), 32),\n",
       " (('sin', 'anu', 'seme'), 32),\n",
       " (('jan', 'lili', 'mute'), 31),\n",
       " (('musi', 'anu', 'seme'), 31)]"
      ]
     },
     "execution_count": 10,
     "metadata": {},
     "output_type": "execute_result"
    }
   ],
   "source": [
    "[trigram\n",
    "for trigram\n",
    "in trigrams\n",
    "if not any(word in ngset for word in trigram[0]) and trigram[1] > 30]"
   ]
  }
 ],
 "metadata": {
  "kernelspec": {
   "display_name": "Python 3 (ipykernel)",
   "language": "python",
   "name": "python3"
  },
  "language_info": {
   "codemirror_mode": {
    "name": "ipython",
    "version": 3
   },
   "file_extension": ".py",
   "mimetype": "text/x-python",
   "name": "python",
   "nbconvert_exporter": "python",
   "pygments_lexer": "ipython3",
   "version": "3.9.9"
  }
 },
 "nbformat": 4,
 "nbformat_minor": 5
}

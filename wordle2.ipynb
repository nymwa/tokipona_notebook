{
 "cells": [
  {
   "cell_type": "code",
   "execution_count": 1,
   "id": "dfa66867",
   "metadata": {},
   "outputs": [],
   "source": [
    "import numpy as np\n",
    "from collections import Counter, defaultdict"
   ]
  },
  {
   "cell_type": "code",
   "execution_count": 2,
   "id": "e533339a",
   "metadata": {},
   "outputs": [
    {
     "name": "stdout",
     "output_type": "stream",
     "text": [
      "66\n",
      "14\n"
     ]
    }
   ],
   "source": [
    "vocab = 'anpa ante awen esun insa jaki jelo kala kama kasi kili kule kute lape laso lawa lete lili lipu loje luka lupa mama mani meli mije moku moli musi mute nasa nena nimi noka olin open pali pana pini pipi poka poki pona sama seli selo seme sewi sike sina sona suli suno supa suwi taso tawa telo toki tomo unpa walo waso wawa weka wile'.split()\n",
    "print(len(vocab))\n",
    "chars = list(set([char for word in vocab for char in word]))\n",
    "chars.sort()\n",
    "print(len(chars))"
   ]
  },
  {
   "cell_type": "code",
   "execution_count": 3,
   "id": "c1eca8d0",
   "metadata": {},
   "outputs": [
    {
     "name": "stdout",
     "output_type": "stream",
     "text": [
      "XWXX\n",
      "XXWC\n",
      "XWXC\n",
      "XWXC\n",
      "WWXC\n"
     ]
    }
   ],
   "source": [
    "def get_hint(ans, cand):\n",
    "    show = [2, 2, 2, 2] # 0: green, correct(C), 1: yellow, wrong(W), 2: no (X)\n",
    "    \n",
    "    # 2 -> 0\n",
    "    for i in range(4):\n",
    "        if ans[i] == cand[i]:\n",
    "            show[i] = 0 # correct\n",
    "    \n",
    "    # 2 -> 1\n",
    "    # candidate characters for yellow character\n",
    "    rest = list(set([cand[i] for i in range(4) if show[i] == 2]))\n",
    "    for r in rest: \n",
    "        if any(r == a for i, a in enumerate(ans) if show[i] in {1, 2}):\n",
    "            for i in range(4): # search index to yellow\n",
    "                if cand[i] == r and show[i] == 2:\n",
    "                    show[i] = 1\n",
    "                    break\n",
    "    hint = ''.join(['C', 'W', 'X'][n] for n in show)\n",
    "    return hint\n",
    "\n",
    "print(get_hint('ante', 'wawa')) # 正解 ante に対して，候補 wawa を入力した結果 -> XWXX\n",
    "print(get_hint('anpa', 'sina')) # 正解 anpa に対して，候補 sina を入力した結果 -> XXWC\n",
    "print(get_hint('sina', 'anpa')) # 正解 sina に対して，候補 anpa を入力した結果 -> XWXC\n",
    "print(get_hint('nena', 'anpa')) # 正解 nena に対して，候補 anpa を入力した結果 -> XWXC\n",
    "print(get_hint('nasa', 'anpa')) # 正解 nasa に対して，候補 anpa を入力した結果 -> WWXC"
   ]
  },
  {
   "cell_type": "code",
   "execution_count": 4,
   "id": "93f71ff0",
   "metadata": {},
   "outputs": [
    {
     "name": "stdout",
     "output_type": "stream",
     "text": [
      "['ante']\n",
      "['kasi']\n"
     ]
    }
   ],
   "source": [
    "def filter_words(words, hint, cand):\n",
    "    words = [x for x in words if x != cand]\n",
    "    \n",
    "    # Wの定義を，厳密に「ここではなく他のところにある」にしてjを書き換え\n",
    "    yellow_chars = ''\n",
    "    for i in range(4):\n",
    "        if hint[i] in 'CW':\n",
    "            yellow_chars += cand[i] # 少なからずあたっている\n",
    "    for i in range(4):\n",
    "        if (cand[i] in yellow_chars) and (hint[i] == 'X'):\n",
    "            hint = hint[:i] + 'W' + hint[i+1:]\n",
    "    \n",
    "    for i in range(4):\n",
    "        if hint[i] == 'C':\n",
    "            words = [word for word in words if word[i] == cand[i]]\n",
    "        elif hint[i] == 'W':\n",
    "            words = [word for word in words if cand[i] in word]\n",
    "            words = [word for word in words if word[i] != cand[i]]\n",
    "        elif hint[i] == 'X':\n",
    "            words = [word for word in words if cand[i] not in word]\n",
    "            \n",
    "    return words\n",
    "\n",
    "print(filter_words(vocab, 'XWXX', 'wawa')) # 初手wawaに対する回答がXWXXだったとき，次に候補となる単語のリスト\n",
    "print(filter_words(['kama', 'kasi'], 'CCXX', 'kama'))"
   ]
  },
  {
   "cell_type": "code",
   "execution_count": 5,
   "id": "562a00ed",
   "metadata": {},
   "outputs": [],
   "source": [
    "#comb = [(w1, w2, w3) for w1 in vocab for w2 in vocab for w3 in vocab if w1 != w2 != w3 != w1]\n",
    "comb = [(wa, w1, w2) for wa in vocab for w1 in vocab for w2 in vocab if w1 != w2]"
   ]
  },
  {
   "cell_type": "code",
   "execution_count": 6,
   "id": "7b7ed587",
   "metadata": {
    "scrolled": false
   },
   "outputs": [],
   "source": [
    "x = [len(filter_words(filter_words(vocab, get_hint(wa, w1), w1), get_hint(wa, w2), w2))\n",
    " for wa, w1, w2\n",
    " in comb]"
   ]
  },
  {
   "cell_type": "code",
   "execution_count": 7,
   "id": "61896d07",
   "metadata": {},
   "outputs": [
    {
     "data": {
      "text/plain": [
       "24"
      ]
     },
     "execution_count": 7,
     "metadata": {},
     "output_type": "execute_result"
    }
   ],
   "source": [
    "max(x)"
   ]
  },
  {
   "cell_type": "code",
   "execution_count": 8,
   "id": "e6e7c551",
   "metadata": {},
   "outputs": [
    {
     "data": {
      "text/plain": [
       "(['ante', 'awen'], 'XWXX')"
      ]
     },
     "execution_count": 8,
     "metadata": {},
     "output_type": "execute_result"
    }
   ],
   "source": [
    "h1 = get_hint('ante', 'mama')\n",
    "h2 = get_hint('ante', 'wawa')\n",
    "words = filter_words(vocab, h1, 'mama')\n",
    "words, h1"
   ]
  },
  {
   "cell_type": "code",
   "execution_count": 9,
   "id": "0a0348a1",
   "metadata": {},
   "outputs": [
    {
     "ename": "NameError",
     "evalue": "name 'wor' is not defined",
     "output_type": "error",
     "traceback": [
      "\u001b[0;31m---------------------------------------------------------------------------\u001b[0m",
      "\u001b[0;31mNameError\u001b[0m                                 Traceback (most recent call last)",
      "Input \u001b[0;32mIn [9]\u001b[0m, in \u001b[0;36m<module>\u001b[0;34m\u001b[0m\n\u001b[0;32m----> 1\u001b[0m \u001b[43mwor\u001b[49m\n",
      "\u001b[0;31mNameError\u001b[0m: name 'wor' is not defined"
     ]
    }
   ],
   "source": [
    "wor"
   ]
  }
 ],
 "metadata": {
  "kernelspec": {
   "display_name": "Python 3 (ipykernel)",
   "language": "python",
   "name": "python3"
  },
  "language_info": {
   "codemirror_mode": {
    "name": "ipython",
    "version": 3
   },
   "file_extension": ".py",
   "mimetype": "text/x-python",
   "name": "python",
   "nbconvert_exporter": "python",
   "pygments_lexer": "ipython3",
   "version": "3.9.9"
  }
 },
 "nbformat": 4,
 "nbformat_minor": 5
}

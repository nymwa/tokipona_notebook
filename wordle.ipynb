{
 "cells": [
  {
   "cell_type": "code",
   "execution_count": 1,
   "id": "f6883500",
   "metadata": {},
   "outputs": [],
   "source": [
    "import numpy as np\n",
    "from collections import Counter, defaultdict"
   ]
  },
  {
   "cell_type": "code",
   "execution_count": 2,
   "id": "f30ba609",
   "metadata": {},
   "outputs": [
    {
     "name": "stdout",
     "output_type": "stream",
     "text": [
      "66\n",
      "14\n"
     ]
    }
   ],
   "source": [
    "words = 'anpa ante awen esun insa jaki jelo kala kama kasi kili kule kute lape laso lawa lete lili lipu loje luka lupa mama mani meli mije moku moli musi mute nasa nena nimi noka olin open pali pana pini pipi poka poki pona sama seli selo seme sewi sike sina sona suli suno supa suwi taso tawa telo toki tomo unpa walo waso wawa weka wile'.split()\n",
    "print(len(words))\n",
    "chars = list(set([char for word in words for char in word]))\n",
    "chars.sort()\n",
    "print(len(chars))"
   ]
  },
  {
   "cell_type": "code",
   "execution_count": 3,
   "id": "23cf81dd",
   "metadata": {},
   "outputs": [
    {
     "name": "stdout",
     "output_type": "stream",
     "text": [
      "XWXX\n"
     ]
    }
   ],
   "source": [
    "###\n",
    "### このソースコードには間違いがあるので\n",
    "### wordle2.ipynb wordle_solution.ipynbのほうを参照してください\n",
    "### \n",
    "\n",
    "def judge(ans, cand):\n",
    "    show = [2, 2, 2, 2] # 0: green, 1: yellow, 2: no\n",
    "    \n",
    "    for i in range(4):\n",
    "        if ans[i] == cand[i]:\n",
    "            show[i] = 0\n",
    "    \n",
    "    for x in list(set(ans)):\n",
    "        indices = [i for i in range(4) if cand[i] == x]\n",
    "        if len(indices) > 0 and show[indices[0]] == 2:\n",
    "            show[indices[0]] = 1\n",
    "    \n",
    "    j = ''\n",
    "    chars = ['C', 'W', 'X']\n",
    "    for n in show:\n",
    "        j += chars[n]\n",
    "    return j\n",
    "\n",
    "print(judge('ante', 'wawa')) # 正解 ante に対して，候補 wawa を入力する"
   ]
  },
  {
   "cell_type": "code",
   "execution_count": 4,
   "id": "a6f595d3",
   "metadata": {},
   "outputs": [
    {
     "name": "stdout",
     "output_type": "stream",
     "text": [
      "['ante']\n",
      "['kasi']\n"
     ]
    }
   ],
   "source": [
    "def filter_words(words, j, cand):\n",
    "    words = [x for x in words]\n",
    "    \n",
    "    # Wの定義を，厳密に「ここではなく他のところにある」にしてjを書き換え\n",
    "    yellow_chars = ''\n",
    "    for i in range(4):\n",
    "        if j[i] == 'W' or j[i] == 'C':\n",
    "            yellow_chars += cand[i]\n",
    "    for i in range(4):\n",
    "        if cand[i] in yellow_chars and j[i] == 'X':\n",
    "            j = j[:i] + 'W' + j[i+1:]\n",
    "    \n",
    "    for i in range(4):\n",
    "        if j[i] == 'C':\n",
    "            words = [word for word in words if word[i] == cand[i]]\n",
    "    \n",
    "    for i in range(4):\n",
    "        if j[i] == 'W':\n",
    "            words = [word for word in words if cand[i] in word]\n",
    "            words = [word for word in words if word[i] != cand[i]]\n",
    "            \n",
    "    for i in range(4):\n",
    "        if j[i] == 'X':\n",
    "            words = [word for word in words if cand[i] not in word]\n",
    "            \n",
    "    return words\n",
    "\n",
    "print(filter_words(words, 'XWXX', 'wawa')) # 初手wawaに対する回答がXWXXだったとき，次に候補となる単語のリスト\n",
    "print(filter_words(['kama', 'kasi'], 'CCXX', 'kama'))"
   ]
  },
  {
   "cell_type": "code",
   "execution_count": 5,
   "id": "bf646615",
   "metadata": {},
   "outputs": [
    {
     "name": "stdout",
     "output_type": "stream",
     "text": [
      "2.5385224930608845\n",
      "4.441508514179351\n"
     ]
    }
   ],
   "source": [
    "def ent(rest, cand):\n",
    "    dct = defaultdict(int)\n",
    "    \n",
    "    for word in rest:\n",
    "        dct[judge(word, cand)] += 1\n",
    "        \n",
    "    ent = 0\n",
    "    denom = sum(dct.values())\n",
    "    for i in dct.values():\n",
    "        p = i / len(words)\n",
    "        ent -= p * np.log2(p)\n",
    "    return ent\n",
    "\n",
    "print(ent(words, 'wawa')) # 全単語の中での wawa のエントロピー (情報量がすくない)\n",
    "print(ent(words, 'laso')) # 全単語の中での laso のエントロピー (情報量がおおきい)"
   ]
  },
  {
   "cell_type": "code",
   "execution_count": 7,
   "id": "60e96e5f",
   "metadata": {},
   "outputs": [
    {
     "name": "stdout",
     "output_type": "stream",
     "text": [
      "input first word > sona\n",
      "input return > XXXC\n",
      "prediciton: kala (entropy: 0.7521918116979184)\n",
      "(others: luka (0.7521918116979184), lawa (0.7333264708216073), weka (0.7333264708216073), kama (0.721888781394888), tawa (0.6915857510918577), wawa (0.6915857510918577), lupa (0.6483319181786252), mama (0.6309796904857972))\n",
      "input return > XCWX\n"
     ]
    }
   ],
   "source": [
    "rest = [x for x in words]\n",
    "\n",
    "# 現状，最初の単語はkuleが最適と予測しているが，本当にそうかは謎\n",
    "# 最初の2単語までのエントロピーをみたらkule,sonaが一番たかかったが，3単語以降まで考慮した場合どうなるのかはわからない\n",
    "# 最初の入力単語として最適なのがなにかは誰か教えてください\n",
    "word = input('input first word > ')\n",
    "while True:\n",
    "    j = input('input return > ')\n",
    "    if j == '':\n",
    "        break\n",
    "    rest = filter_words(rest, j, word)\n",
    "    cands = [(word, ent(rest, word)) for word in rest]\n",
    "    cands.sort(key = lambda x: -x[-1])\n",
    "    if len(cands) == 0:\n",
    "        break\n",
    "    elif len(cands) == 1:\n",
    "        print('prediction: {} (entropy: {})'.format(*cands[0]))\n",
    "        break\n",
    "    else:\n",
    "        print('prediciton: {} (entropy: {})'.format(*cands[0]))\n",
    "        print('(others: ' + ', '.join(['{} ({})'.format(w, h) for w, h in cands[1:]]) + ')')\n",
    "    word = cands[0][0]"
   ]
  },
  {
   "cell_type": "code",
   "execution_count": null,
   "id": "f565e274",
   "metadata": {},
   "outputs": [],
   "source": []
  }
 ],
 "metadata": {
  "kernelspec": {
   "display_name": "Python 3 (ipykernel)",
   "language": "python",
   "name": "python3"
  },
  "language_info": {
   "codemirror_mode": {
    "name": "ipython",
    "version": 3
   },
   "file_extension": ".py",
   "mimetype": "text/x-python",
   "name": "python",
   "nbconvert_exporter": "python",
   "pygments_lexer": "ipython3",
   "version": "3.9.9"
  }
 },
 "nbformat": 4,
 "nbformat_minor": 5
}

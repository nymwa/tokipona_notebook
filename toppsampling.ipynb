{
 "cells": [
  {
   "cell_type": "code",
   "execution_count": 264,
   "id": "f73d962e",
   "metadata": {},
   "outputs": [
    {
     "data": {
      "text/plain": [
       "7"
      ]
     },
     "execution_count": 264,
     "metadata": {},
     "output_type": "execute_result"
    }
   ],
   "source": [
    "import numpy as np\n",
    "import torch\n",
    "\n",
    "def tps1(logit, temperature, top_p):\n",
    "    logit = logit / temperature\n",
    "    probs = torch.softmax(logit, dim = -1)\n",
    "    values, indices = torch.sort(probs)\n",
    "    \n",
    "    cumlated = torch.cumsum(values, -1)\n",
    "    is_removed = cumlated < (1 - top_p)\n",
    "    probs[indices[is_removed]] = 0\n",
    "    probs = probs.cpu().numpy()\n",
    "    probs = probs / sum(probs)\n",
    "    \n",
    "    next_token = np.random.choice(range(len(probs)), p = probs)\n",
    "    return next_token\n",
    "    \n",
    "x = torch.randn(10)\n",
    "tps1(x, 1, 0.5)"
   ]
  },
  {
   "cell_type": "code",
   "execution_count": null,
   "id": "48935342",
   "metadata": {},
   "outputs": [],
   "source": []
  }
 ],
 "metadata": {
  "kernelspec": {
   "display_name": "Python 3 (ipykernel)",
   "language": "python",
   "name": "python3"
  },
  "language_info": {
   "codemirror_mode": {
    "name": "ipython",
    "version": 3
   },
   "file_extension": ".py",
   "mimetype": "text/x-python",
   "name": "python",
   "nbconvert_exporter": "python",
   "pygments_lexer": "ipython3",
   "version": "3.9.9"
  }
 },
 "nbformat": 4,
 "nbformat_minor": 5
}

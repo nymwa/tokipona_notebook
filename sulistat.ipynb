{
 "cells": [
  {
   "cell_type": "code",
   "execution_count": 20,
   "id": "94e556ae",
   "metadata": {},
   "outputs": [],
   "source": [
    "import math\n",
    "import numpy as np\n",
    "import torch\n",
    "import matplotlib.pyplot as plt\n",
    "from collections import Counter, defaultdict\n",
    "from ilonimi import Normalizer, Tokenizer"
   ]
  },
  {
   "cell_type": "code",
   "execution_count": 15,
   "id": "015f2d3f",
   "metadata": {},
   "outputs": [],
   "source": [
    "data = []\n",
    "with open('../ponapt/work/suli/aug.txt') as f:\n",
    "    for x in f:\n",
    "        data.append(x.strip())"
   ]
  },
  {
   "cell_type": "code",
   "execution_count": 33,
   "id": "2aa4af0f",
   "metadata": {
    "scrolled": false
   },
   "outputs": [
    {
     "data": {
      "image/png": "[encoded data removed]",
      "text/plain": [
       "<Figure size 432x288 with 1 Axes>"
      ]
     },
     "metadata": {
      "needs_background": "light"
     },
     "output_type": "display_data"
    }
   ],
   "source": [
    "dct = defaultdict(int)\n",
    "lst = []\n",
    "for i, sent in enumerate(data):\n",
    "    dct[sent] += 1\n",
    "    lst.append(len(dct))\n",
    "plt.plot(lst)\n",
    "plt.show()"
   ]
  },
  {
   "cell_type": "code",
   "execution_count": 41,
   "id": "86287375",
   "metadata": {},
   "outputs": [
    {
     "data": {
      "text/plain": [
       "556897"
      ]
     },
     "execution_count": 41,
     "metadata": {},
     "output_type": "execute_result"
    }
   ],
   "source": [
    "counter = Counter(data).most_common()\n",
    "lst = []\n",
    "for sent, freq in counter:\n",
    "    for _ in range(math.ceil(math.sqrt(freq))):\n",
    "        lst.append(sent)\n",
    "len(lst)"
   ]
  },
  {
   "cell_type": "code",
   "execution_count": null,
   "id": "0717cc65",
   "metadata": {},
   "outputs": [],
   "source": []
  },
  {
   "cell_type": "code",
   "execution_count": null,
   "id": "d90ce0c3",
   "metadata": {},
   "outputs": [],
   "source": []
  }
 ],
 "metadata": {
  "kernelspec": {
   "display_name": "Python 3 (ipykernel)",
   "language": "python",
   "name": "python3"
  },
  "language_info": {
   "codemirror_mode": {
    "name": "ipython",
    "version": 3
   },
   "file_extension": ".py",
   "mimetype": "text/x-python",
   "name": "python",
   "nbconvert_exporter": "python",
   "pygments_lexer": "ipython3",
   "version": "3.9.9"
  }
 },
 "nbformat": 4,
 "nbformat_minor": 5
}

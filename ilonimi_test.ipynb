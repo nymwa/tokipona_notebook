{
 "cells": [
  {
   "cell_type": "code",
   "execution_count": 8,
   "id": "9297e34b",
   "metadata": {},
   "outputs": [
    {
     "name": "stdout",
     "output_type": "stream",
     "text": [
      "jan ≡╹ω╹≡ li sona e toki Mokami 123 .\n",
      "jan ≡╹ω╹≡ li sona e toki Mokami 123.\n",
      "jan ≡╹ω╹≡ li sona e toki Mokami 123 .\n",
      "jan <unk> li sona e toki Mokami 123 .\n",
      "jan ≡╹ω╹≡ li sona e toki Mokami <number> .\n",
      "jan ≡╹ω╹≡ li sona e toki <proper> 123 .\n",
      "jan ≡╹ω╹≡ li sona e toki MO ##KA ##MI 1 ##2 ##3 .\n",
      "jan ≡╹ω╹≡ li sona e toki MO KA MI 1 2 3 .\n",
      "---\n",
      "jan ≡╹ω╹≡ li sona e toki Mokami 123.\n",
      "jan ≡╹ω╹≡ li sona e toki Mo Ka Mi 1 2 3.\n",
      "jan ≡╹ω╹≡ li sona e toki Mokami 123.\n",
      "Mopumopu\n"
     ]
    }
   ],
   "source": [
    "%%bash\n",
    "\n",
    "S=\"jan ≡╹ω╹≡ li sona e toki Mokami 123.\"\n",
    "\n",
    "echo $S | nimi tu\n",
    "echo $S | nimi tu --no-normalize\n",
    "echo $S | nimi tu --no-tokenize\n",
    "echo $S | nimi tu --convert-unk\n",
    "echo $S | nimi tu --convert-number\n",
    "echo $S | nimi tu --convert-proper\n",
    "echo $S | nimi tu --split\n",
    "echo $S | nimi tu --split --no-sharp\n",
    "\n",
    "echo '---'\n",
    "\n",
    "echo $S | nimi tu --split | nimi wan --merge\n",
    "echo $S | nimi tu --split --no-sharp | nimi wan --merge\n",
    "echo $S | nimi tu --split --no-sharp | nimi wan --merge --no-sharp\n",
    "echo \"Mopu Mopu\" | nimi tu --split --no-sharp | nimi wan --merge --no-sharp"
   ]
  },
  {
   "cell_type": "code",
   "execution_count": null,
   "id": "4aa6d509",
   "metadata": {},
   "outputs": [],
   "source": []
  }
 ],
 "metadata": {
  "kernelspec": {
   "display_name": "Python 3 (ipykernel)",
   "language": "python",
   "name": "python3"
  },
  "language_info": {
   "codemirror_mode": {
    "name": "ipython",
    "version": 3
   },
   "file_extension": ".py",
   "mimetype": "text/x-python",
   "name": "python",
   "nbconvert_exporter": "python",
   "pygments_lexer": "ipython3",
   "version": "3.9.9"
  }
 },
 "nbformat": 4,
 "nbformat_minor": 5
}

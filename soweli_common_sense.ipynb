{
 "cells": [
  {
   "cell_type": "code",
   "execution_count": 1,
   "id": "eba617f6",
   "metadata": {},
   "outputs": [],
   "source": [
    "import torch\n",
    "from ponapt.vocab import load_vocab\n",
    "from ponapt.preproc import LMPreproc\n",
    "from ponapt.postproc import LMPostproc\n",
    "from ponapt.lm import LM\n",
    "from ponapt.generation.sampler import SentenceSampler\n",
    "from ponapt.generation.sentence import ScoredSentence\n",
    "from ponapt.generation.beam import Beam\n",
    "from ponapt.generation.search import BeamSearch"
   ]
  },
  {
   "cell_type": "code",
   "execution_count": 2,
   "id": "9fc6aefa",
   "metadata": {},
   "outputs": [],
   "source": [
    "vocab = load_vocab('../../../mopumopu/220219/vocab.txt')\n",
    "model = LM(len(vocab), 1024, 16, 4096, 0, 0, 0, 0, 6, padding_idx = 0, max_len = 256)\n",
    "model.load_state_dict(torch.load('../../../mopumopu/220219/checkpoints/lm.200.pt', map_location = 'cpu'))\n",
    "model = model.cuda()\n",
    "model.eval()\n",
    "preproc = LMPreproc()\n",
    "postproc = LMPostproc()\n",
    "search = BeamSearch(model, vocab, width = 4, max_len = 30)"
   ]
  },
  {
   "cell_type": "code",
   "execution_count": 3,
   "id": "3714e9c7",
   "metadata": {},
   "outputs": [],
   "source": [
    "def soweli_search(sent):\n",
    "    sent = preproc(sent)\n",
    "    sent = [vocab(word) for word in sent.split()]\n",
    "    sent = ScoredSentence(vocab, [0] * len(sent), sent)\n",
    "    beam = Beam(width = 4, sents = [sent])\n",
    "    for i in range(30):\n",
    "        beam = search.step(beam = beam)\n",
    "        if beam.terminated():\n",
    "            break\n",
    "    sent = beam.store[0].sent\n",
    "    sent = ' '.join([vocab[word] for word in sent][:-1])\n",
    "    sent = postproc(sent)\n",
    "    return sent"
   ]
  },
  {
   "cell_type": "code",
   "execution_count": 8,
   "id": "baaed57a",
   "metadata": {
    "scrolled": false
   },
   "outputs": [
    {
     "name": "stdout",
     "output_type": "stream",
     "text": [
      "ma tomo Tokijo li ma tomo lawa pi ma Nijon.\n",
      "ma tomo Lanten li ma tomo lawa pi ma Inli.\n",
      "ma tomo Pelin li ma tomo lawa pi ma Tosi.\n",
      "ma tomo Paki li ma tomo lawa pi ma Kanse.\n",
      "ma tomo Pesin li ma tomo lawa pi ma Sonko.\n",
      "ma tomo Solu li ma tomo lawa pi ma Wensa.\n",
      "ma tomo Wasinton li ma tomo lawa pi ma Montenlija.\n"
     ]
    }
   ],
   "source": [
    "lst = [\n",
    "    'ma tomo Tokijo li ma tomo lawa pi ma',\n",
    "    'ma tomo Lanten li ma tomo lawa pi ma',\n",
    "    'ma tomo Pelin li ma tomo lawa pi ma',\n",
    "    'ma tomo Paki li ma tomo lawa pi ma',\n",
    "    'ma tomo Pesin li ma tomo lawa pi ma',\n",
    "    'ma tomo Solu li ma tomo lawa pi ma',\n",
    "    'ma tomo Wasinton li ma tomo lawa pi ma']\n",
    "for prefix in lst:\n",
    "    pred = soweli_search(prefix)\n",
    "    print(pred)"
   ]
  },
  {
   "cell_type": "code",
   "execution_count": 11,
   "id": "8fe74985",
   "metadata": {},
   "outputs": [
    {
     "name": "stdout",
     "output_type": "stream",
     "text": [
      "ma tomo lawa pi ma Nijon li ma tomo Kipu.\n",
      "ma tomo lawa pi ma Inli li ma tomo Osaka.\n",
      "ma tomo lawa pi ma Tosi li ma tomo Osaka.\n",
      "ma tomo lawa pi ma Kanse li ma tomo Paki.\n",
      "ma tomo lawa pi ma Sonko li ma tomo Lanten.\n",
      "ma tomo lawa pi ma Anku li ma tomo Osaka.\n",
      "ma tomo lawa pi ma Mewika li ma tomo Kiju.\n"
     ]
    }
   ],
   "source": [
    "lst = [\n",
    "    'ma tomo lawa pi ma Nijon li ma tomo',\n",
    "    'ma tomo lawa pi ma Inli li ma tomo',\n",
    "    'ma tomo lawa pi ma Tosi li ma tomo',\n",
    "    'ma tomo lawa pi ma Kanse li ma tomo',\n",
    "    'ma tomo lawa pi ma Sonko li ma tomo',\n",
    "    'ma tomo lawa pi ma Anku li ma tomo',\n",
    "    'ma tomo lawa pi ma Mewika li ma tomo']\n",
    "for prefix in lst:\n",
    "    pred = soweli_search(prefix)\n",
    "    print(pred)"
   ]
  },
  {
   "cell_type": "code",
   "execution_count": 13,
   "id": "45c9f204",
   "metadata": {},
   "outputs": [
    {
     "name": "stdout",
     "output_type": "stream",
     "text": [
      "soweli wan li lon tomo ni. soweli tu li kama tawa tomo ni. tenpo ni la soweli tu tu tu li lon ni.\n",
      "soweli wan li lon ma ni. soweli tu li kama tawa ma ni. tenpo ni la soweli tu li lon ni.\n"
     ]
    }
   ],
   "source": [
    "lst = [\n",
    "    'soweli wan li lon tomo ni. soweli tu li kama tawa tomo ni. tenpo ni la soweli',\n",
    "    'soweli wan li lon ma ni. soweli tu li kama tawa ma ni. tenpo ni la soweli',]\n",
    "for prefix in lst:\n",
    "    pred = soweli_search(prefix)\n",
    "    print(pred)"
   ]
  }
 ],
 "metadata": {
  "kernelspec": {
   "display_name": "Python 3 (ipykernel)",
   "language": "python",
   "name": "python3"
  },
  "language_info": {
   "codemirror_mode": {
    "name": "ipython",
    "version": 3
   },
   "file_extension": ".py",
   "mimetype": "text/x-python",
   "name": "python",
   "nbconvert_exporter": "python",
   "pygments_lexer": "ipython3",
   "version": "3.9.9"
  }
 },
 "nbformat": 4,
 "nbformat_minor": 5
}

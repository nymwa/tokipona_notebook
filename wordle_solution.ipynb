{
 "cells": [
  {
   "cell_type": "code",
   "execution_count": 1,
   "id": "343423cb",
   "metadata": {},
   "outputs": [
    {
     "name": "stdout",
     "output_type": "stream",
     "text": [
      "66\n",
      "14\n",
      "2122\n",
      "2210\n",
      "2120\n",
      "2120\n",
      "1120\n",
      "['ante']\n",
      "['kasi']\n"
     ]
    }
   ],
   "source": [
    "import numpy as np\n",
    "from collections import Counter, defaultdict\n",
    "\n",
    "vocab = 'anpa ante awen esun insa jaki jelo kala kama kasi kili kule kute lape laso lawa lete lili lipu loje luka lupa mama mani meli mije moku moli musi mute nasa nena nimi noka olin open pali pana pini pipi poka poki pona sama seli selo seme sewi sike sina sona suli suno supa suwi taso tawa telo toki tomo unpa walo waso wawa weka wile'.split()\n",
    "print(len(vocab))\n",
    "chars = list(set([char for word in vocab for char in word]))\n",
    "chars.sort()\n",
    "print(len(chars))\n",
    "\n",
    "def get_hint(ans, cand):\n",
    "    show = [2, 2, 2, 2] # 0: green, correct(C), 1: yellow, wrong(W), 2: no (X)\n",
    "    \n",
    "    # 2 -> 0\n",
    "    for i in range(4):\n",
    "        if ans[i] == cand[i]:\n",
    "            show[i] = 0 # correct\n",
    "    \n",
    "    # 2 -> 1\n",
    "    # candidate characters for yellow character\n",
    "    rest = list(set([cand[i] for i in range(4) if show[i] == 2]))\n",
    "    for r in rest: \n",
    "        if any(r == a for i, a in enumerate(ans) if show[i] in {1, 2}):\n",
    "            for i in range(4): # search index to yellow\n",
    "                if cand[i] == r and show[i] == 2:\n",
    "                    show[i] = 1\n",
    "                    break\n",
    "    hint = ''.join(['0', '1', '2'][n] for n in show)\n",
    "    return hint\n",
    "\n",
    "print(get_hint('ante', 'wawa')) # 正解 ante に対して，候補 wawa を入力した結果 -> XWXX\n",
    "print(get_hint('anpa', 'sina')) # 正解 anpa に対して，候補 sina を入力した結果 -> XXWC\n",
    "print(get_hint('sina', 'anpa')) # 正解 sina に対して，候補 anpa を入力した結果 -> XWXC\n",
    "print(get_hint('nena', 'anpa')) # 正解 nena に対して，候補 anpa を入力した結果 -> XWXC\n",
    "print(get_hint('nasa', 'anpa')) # 正解 nasa に対して，候補 anpa を入力した結果 -> WWXC\n",
    "\n",
    "def filter_words(words, hint, cand):\n",
    "    words = [x for x in words if x != cand]\n",
    "    \n",
    "    # Wの定義を，厳密に「ここではなく他のところにある」にしてjを書き換え\n",
    "    yellow_chars = ''\n",
    "    for i in range(4):\n",
    "        if hint[i] in 'CW':\n",
    "            yellow_chars += cand[i] # 少なからずあたっている\n",
    "    for i in range(4):\n",
    "        if (cand[i] in yellow_chars) and (hint[i] == 'X'):\n",
    "            hint = hint[:i] + 'W' + hint[i+1:]\n",
    "    \n",
    "    for i in range(4):\n",
    "        if hint[i] == 'C':\n",
    "            words = [word for word in words if word[i] == cand[i]]\n",
    "        elif hint[i] == 'W':\n",
    "            words = [word for word in words if cand[i] in word]\n",
    "            words = [word for word in words if word[i] != cand[i]]\n",
    "        elif hint[i] == 'X':\n",
    "            words = [word for word in words if cand[i] not in word]\n",
    "            \n",
    "    return words\n",
    "\n",
    "print(filter_words(vocab, 'XWXX', 'wawa')) # 初手wawaに対する回答がXWXXだったとき，次に候補となる単語のリスト\n",
    "print(filter_words(['kama', 'kasi'], 'CCXX', 'kama'))\n",
    "\n",
    "def split_cand(words, cand):\n",
    "    dct = defaultdict(list)\n",
    "    for word in words:\n",
    "        dct[get_hint(word, cand)].append(word)\n",
    "    return dict(dct)\n",
    "\n",
    "def count_cand(words, cand):\n",
    "    dct = split_cand(words, cand)\n",
    "    dct = {key: len(value) for key, value in dct.items()}\n",
    "    return dct\n",
    "\n",
    "def calc_ent(words, cand):\n",
    "    dct = count_cand(words, cand)\n",
    "    ent = 0\n",
    "    denom = sum(dct.values())\n",
    "    for i in dct.values():\n",
    "        p = i / len(words)\n",
    "        ent -= p * np.log2(p)\n",
    "    return ent"
   ]
  },
  {
   "cell_type": "code",
   "execution_count": 2,
   "id": "902b1f43",
   "metadata": {},
   "outputs": [
    {
     "data": {
      "text/plain": [
       "[('laso', 4.441508514179351),\n",
       " ('seli', 4.3505994232702605),\n",
       " ('selo', 4.345318884700614),\n",
       " ('sina', 4.263741945530095),\n",
       " ('lape', 4.219632176743091),\n",
       " ('pali', 4.21794961263142),\n",
       " ('sona', 4.209357788586154),\n",
       " ('sike', 4.20140083556324),\n",
       " ('meli', 4.164487015692192),\n",
       " ('kasi', 4.158572477426081),\n",
       " ('walo', 4.148402787392285),\n",
       " ('suli', 4.144784136520656),\n",
       " ('mani', 4.120924946057055),\n",
       " ('moli', 4.099779766428733),\n",
       " ('luka', 4.09145695284965),\n",
       " ('pona', 4.061153922546621),\n",
       " ('wile', 4.053092271400567),\n",
       " ('poka', 4.048839620832478),\n",
       " ('noka', 4.027827167076222),\n",
       " ('waso', 3.9943907110834886)]"
      ]
     },
     "execution_count": 2,
     "metadata": {},
     "output_type": "execute_result"
    }
   ],
   "source": [
    "# 1語だけでのエントロピーが大きくなるような語を列挙する\n",
    "# この中から，なるべく多く3手で全部網羅できるのをひとつひとつ探したらwaloでできてしまった\n",
    "ents = [(word, calc_ent(vocab, word)) for word in vocab]\n",
    "ents.sort(key = lambda x: -x[1])\n",
    "ents[:20]"
   ]
  },
  {
   "cell_type": "code",
   "execution_count": 3,
   "id": "72383c8b",
   "metadata": {},
   "outputs": [
    {
     "name": "stdout",
     "output_type": "stream",
     "text": [
      "2122 nasa {'1120': ['anpa'], '1122': ['ante'], '1200': ['insa'], '0220': ['nena'], '1210': ['sina'], '2210': ['supa'], '1220': ['unpa']}\n",
      "1122 anpa {'0122': ['awen']}\n",
      "2222 mani {'2212': ['esun'], '2222': ['kute'], '0221': ['mije'], '0220': ['musi'], '0222': ['mute'], '1210': ['nimi'], '2200': ['pini'], '2220': ['pipi'], '1222': ['seme'], '2221': ['sike']}\n",
      "2022 musi {'2220': ['jaki'], '1222': ['kama'], '2200': ['kasi'], '0222': ['mama'], '0220': ['mani'], '2202': ['nasa'], '2222': ['pana'], '1212': ['sama']}\n",
      "2200 taso {'2220': ['jelo'], '2210': ['selo'], '0220': ['telo']}\n",
      "2002 anpa {'1220': ['kala'], '1212': ['pali']}\n",
      "2202 sike {'2012': ['kili'], '2210': ['kule'], '2022': ['lili'], '2121': ['meli'], '0121': ['seli'], '0122': ['suli']}\n",
      "2012 anpa {'1202': ['lape']}\n",
      "2010 anpa {'1222': ['laso']}\n",
      "1012 anpa {'1220': ['lawa']}\n",
      "2212 anpa {'2222': ['lete'], '2202': ['lipu']}\n",
      "2211 anpa {'2222': ['loje'], '2122': ['olin']}\n",
      "2112 anpa {'2220': ['luka'], '2200': ['lupa']}\n",
      "2221 kute {'1122': ['moku'], '2221': ['open'], '1222': ['poki'], '1212': ['toki']}\n",
      "2201 anpa {'2222': ['moli']}\n",
      "2121 nasa {'0220': ['noka'], '2220': ['poka'], '1220': ['pona'], '1210': ['sona']}\n",
      "1222 ante {'2221': ['sewi'], '2222': ['suwi']}\n",
      "2220 anpa {'2122': ['suno'], '2222': ['tomo']}\n",
      "2020 anpa {'1222': ['taso']}\n",
      "1022 anpa {'1220': ['tawa']}\n",
      "0000 anpa {'1222': ['walo']}\n",
      "0020 anpa {'1222': ['waso']}\n",
      "0022 anpa {'1220': ['wawa']}\n",
      "0122 anpa {'2220': ['weka']}\n",
      "0202 anpa {'2222': ['wile']}\n"
     ]
    }
   ],
   "source": [
    "# 'walo'の部分を書き換えると，3手でなるべく分けてくれる\n",
    "# 入力することでエントロピーが最大になるような単語のみでの探索なので，もしかしたら他にも手があるかもしれない\n",
    "for key, value in split_cand(vocab, 'walo').items():\n",
    "    ents = [(word, calc_ent(value, word)) for word in vocab]\n",
    "    ents.sort(key = lambda x: -x[1])\n",
    "    best, ent = ents[0]\n",
    "    dct = split_cand(value, best)\n",
    "    print(key, best, dct)"
   ]
  },
  {
   "cell_type": "code",
   "execution_count": null,
   "id": "ed57bb34",
   "metadata": {},
   "outputs": [],
   "source": []
  }
 ],
 "metadata": {
  "kernelspec": {
   "display_name": "Python 3 (ipykernel)",
   "language": "python",
   "name": "python3"
  },
  "language_info": {
   "codemirror_mode": {
    "name": "ipython",
    "version": 3
   },
   "file_extension": ".py",
   "mimetype": "text/x-python",
   "name": "python",
   "nbconvert_exporter": "python",
   "pygments_lexer": "ipython3",
   "version": "3.9.9"
  }
 },
 "nbformat": 4,
 "nbformat_minor": 5
}
